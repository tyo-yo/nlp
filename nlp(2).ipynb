{
 "cells": [
  {
   "cell_type": "code",
   "execution_count": null,
   "metadata": {},
   "outputs": [],
   "source": [
    "with open('popular-names.txt') as f:\n",
    "    count = 0\n",
    "    for line in f:\n",
    "        count += 1\n",
    "print(count)"
   ]
  },
  {
   "cell_type": "code",
   "execution_count": null,
   "metadata": {},
   "outputs": [],
   "source": [
    "import subprocess\n",
    "import codecs\n",
    "output = subprocess.check_output(['wc', '-l', 'popular-names.txt'])\n",
    "print(output.decode('utf-8'))"
   ]
  },
  {
   "cell_type": "code",
   "execution_count": null,
   "metadata": {},
   "outputs": [],
   "source": [
    "with open('popular-names.txt') as f:\n",
    "    for data in f:\n",
    "        print(data.strip().replace(\"\\t\", \" \")) "
   ]
  },
  {
   "cell_type": "code",
   "execution_count": null,
   "metadata": {},
   "outputs": [],
   "source": [
    "subprocess.check_output(['expand', 'popular-names.txt']).replace(b'\\n', b'').replace(b'   ', b' ')"
   ]
  },
  {
   "cell_type": "code",
   "execution_count": null,
   "metadata": {},
   "outputs": [],
   "source": [
    "with open('popular-names.txt') as f, \\\n",
    "        open('col3.txt', mode='w') as col1_file, \\\n",
    "        open('col2.txt', mode='w') as col2_file:\n",
    "     for line in f:\n",
    "         cols = line.split('\\t')\n",
    "         col1_file.write(cols[0] + '\\n')\n",
    "         col2_file.write(cols[1] + '\\n')"
   ]
  },
  {
   "cell_type": "code",
   "execution_count": null,
   "metadata": {},
   "outputs": [],
   "source": [
    "with open('col1.txt', mode='w') as col1,\\\n",
    "     open('col2.txt', mode='w') as col2:\n",
    "     col1.write(subprocess.check_output(['cut', '-f', '1', 'popular-names.txt']).replace(b'\\n', b' ').decode('utf-8'))\n",
    "     col2.write(subprocess.check_output(['cut', '-f', '2', 'popular-names.txt']).replace(b'\\n', b' ').decode('utf-8'))"
   ]
  },
  {
   "cell_type": "code",
   "execution_count": null,
   "metadata": {},
   "outputs": [],
   "source": [
    "with open('col1.txt') as col1_file, \\\n",
    "        open('col2.txt') as col2_file, \\\n",
    "        open('text.txt', mode='w') as text_file:\n",
    "     for col1_line, col2_line in zip(col1_file, col2_file):\n",
    "         text_file.write(col1_line.rstrip() + '\\t' + col2_line.rstrip() + '\\n')"
   ]
  },
  {
   "cell_type": "code",
   "execution_count": null,
   "metadata": {},
   "outputs": [],
   "source": [
    "!paste -d , col[1-2].txt"
   ]
  },
  {
   "cell_type": "code",
   "execution_count": null,
   "metadata": {},
   "outputs": [],
   "source": [
    "N = int(input())\n",
    "\n",
    "with open('popular-names.txt') as f:\n",
    "    for i, line in enumerate(f):\n",
    "        if i >= N:\n",
    "            break\n",
    "        print(line.rstrip())"
   ]
  },
  {
   "cell_type": "code",
   "execution_count": null,
   "metadata": {},
   "outputs": [],
   "source": [
    "N = int(input())\n",
    "!head -n $N popular-names.txt "
   ]
  },
  {
   "cell_type": "code",
   "execution_count": null,
   "metadata": {},
   "outputs": [],
   "source": [
    "N = int(input())\n",
    "if N>0:\n",
    "    with open('popular-names.txt') as f:\n",
    "        lines = f.readlines() \n",
    "        for line in lines[-N: ]:\n",
    "            print(line.rstrip())"
   ]
  },
  {
   "cell_type": "code",
   "execution_count": null,
   "metadata": {},
   "outputs": [],
   "source": [
    "N = int(input())\n",
    "!tail -n $N popular-names.txt"
   ]
  },
  {
   "cell_type": "code",
   "execution_count": null,
   "metadata": {},
   "outputs": [],
   "source": [
    "import math\n",
    "N = int(input())\n",
    "with open('popular-names.txt') as f:\n",
    "    lines = f.readlines()\n",
    "    count = len(lines)\n",
    "    unit = math.ceil(count/N)\n",
    "    for i, j in enumerate(range(0, count, unit), 1):  \n",
    "        with open('popular-names_{}.txt'.format(i), mode='w') as out_file:\n",
    "            for line in lines[j:j+unit]:\n",
    "                out_file.write(line)"
   ]
  },
  {
   "cell_type": "code",
   "execution_count": null,
   "metadata": {},
   "outputs": [],
   "source": [
    "N = int(input())\n",
    "!split -l $N popular-names.txt"
   ]
  },
  {
   "cell_type": "code",
   "execution_count": null,
   "metadata": {},
   "outputs": [],
   "source": [
    "with open('popular-names.txt') as f:\n",
    "    sets = set()\n",
    "    for line in f:\n",
    "        cols = line.split('\\t')\n",
    "        sets.add(cols[0])\n",
    "    print(sets)"
   ]
  },
  {
   "cell_type": "code",
   "execution_count": null,
   "metadata": {},
   "outputs": [],
   "source": [
    "!cut -f 1 popular-names.txt | uniq "
   ]
  },
  {
   "cell_type": "code",
   "execution_count": null,
   "metadata": {},
   "outputs": [],
   "source": [
    "with open('popular-names.txt') as f:\n",
    "    names = []\n",
    "    for data in f:\n",
    "        splited_data=data.split('\\t')\n",
    "        names.append(tuple(splited_data))\n",
    "\n",
    "print(sorted(names, key=lambda names:names[2], reverse=True))"
   ]
  },
  {
   "cell_type": "code",
   "execution_count": null,
   "metadata": {},
   "outputs": [],
   "source": [
    "!sort -r -n -k 3,3 popular-names.txt"
   ]
  },
  {
   "cell_type": "code",
   "execution_count": 1,
   "metadata": {},
   "outputs": [
    {
     "output_type": "error",
     "ename": "FileNotFoundError",
     "evalue": "[Errno 2] No such file or directory: 'popular-names.txt'",
     "traceback": [
      "\u001b[0;31m---------------------------------------------------------------------------\u001b[0m",
      "\u001b[0;31mFileNotFoundError\u001b[0m                         Traceback (most recent call last)",
      "\u001b[0;32m<ipython-input-1-8e2156f27f77>\u001b[0m in \u001b[0;36m<module>\u001b[0;34m\u001b[0m\n\u001b[1;32m      1\u001b[0m \u001b[0;32mimport\u001b[0m \u001b[0mcollections\u001b[0m\u001b[0;34m\u001b[0m\u001b[0;34m\u001b[0m\u001b[0m\n\u001b[1;32m      2\u001b[0m \u001b[0;34m\u001b[0m\u001b[0m\n\u001b[0;32m----> 3\u001b[0;31m \u001b[0;32mwith\u001b[0m \u001b[0mopen\u001b[0m\u001b[0;34m(\u001b[0m\u001b[0;34m'popular-names.txt'\u001b[0m\u001b[0;34m)\u001b[0m \u001b[0;32mas\u001b[0m \u001b[0mf\u001b[0m\u001b[0;34m:\u001b[0m\u001b[0;34m\u001b[0m\u001b[0;34m\u001b[0m\u001b[0m\n\u001b[0m\u001b[1;32m      4\u001b[0m     \u001b[0mnames_list\u001b[0m  \u001b[0;34m=\u001b[0m\u001b[0;34m[\u001b[0m\u001b[0;34m]\u001b[0m\u001b[0;34m\u001b[0m\u001b[0;34m\u001b[0m\u001b[0m\n\u001b[1;32m      5\u001b[0m     \u001b[0;32mfor\u001b[0m \u001b[0mline\u001b[0m \u001b[0;32min\u001b[0m \u001b[0mf\u001b[0m\u001b[0;34m:\u001b[0m\u001b[0;34m\u001b[0m\u001b[0;34m\u001b[0m\u001b[0m\n",
      "\u001b[0;31mFileNotFoundError\u001b[0m: [Errno 2] No such file or directory: 'popular-names.txt'"
     ]
    }
   ],
   "source": [
    "import collections\n",
    "\n",
    "with open('popular-names.txt') as f:\n",
    "    names_list  =[]\n",
    "    for line in f:\n",
    "        cols = line.split('\\t')\n",
    "        names_list.append(cols[0])\n",
    "        common = collections.Counter(names_list)\n",
    "values, counts = zip(*common.most_common())\n",
    "print(values)"
   ]
  },
  {
   "cell_type": "code",
   "execution_count": null,
   "metadata": {},
   "outputs": [],
   "source": [
    "!cut -f 1 popular-names.txt| sort | uniq -c| sort -nr"
   ]
  }
 ],
 "metadata": {
  "language_info": {
   "codemirror_mode": {
    "name": "ipython",
    "version": 3
   },
   "file_extension": ".py",
   "mimetype": "text/x-python",
   "name": "python",
   "nbconvert_exporter": "python",
   "pygments_lexer": "ipython3",
   "version": "3.6.10-final"
  },
  "orig_nbformat": 2,
  "kernelspec": {
   "name": "python361064bitpracticeconda2a5efa803542411f976c154d6b498932",
   "display_name": "Python 3.6.10 64-bit ('practice': conda)"
  }
 },
 "nbformat": 4,
 "nbformat_minor": 2
}